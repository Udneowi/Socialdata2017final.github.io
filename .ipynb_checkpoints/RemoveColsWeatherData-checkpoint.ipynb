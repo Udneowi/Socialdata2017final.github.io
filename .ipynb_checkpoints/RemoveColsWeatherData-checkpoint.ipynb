{
 "cells": [
  {
   "cell_type": "code",
   "execution_count": 5,
   "metadata": {
    "collapsed": false
   },
   "outputs": [
    {
     "name": "stdout",
     "output_type": "stream",
     "text": [
      "Index([u'STATION', u'STATION_NAME', u'ELEVATION', u'LATITUDE', u'LONGITUDE',\n",
      "       u'DATE', u'REPORTTPYE', u'HOURLYSKYCONDITIONS', u'HOURLYVISIBILITY',\n",
      "       u'HOURLYPRSENTWEATHERTYPE', u'HOURLYDRYBULBTEMPF',\n",
      "       u'HOURLYDRYBULBTEMPC', u'HOURLYWETBULBTEMPF', u'HOURLYWETBULBTEMPC',\n",
      "       u'HOURLYDewPointTempF', u'HOURLYDewPointTempC',\n",
      "       u'HOURLYRelativeHumidity', u'HOURLYWindSpeed', u'HOURLYWindDirection',\n",
      "       u'HOURLYWindGustSpeed', u'HOURLYStationPressure',\n",
      "       u'HOURLYPressureTendency', u'HOURLYPressureChange',\n",
      "       u'HOURLYSeaLevelPressure', u'HOURLYPrecip', u'HOURLYAltimeterSetting',\n",
      "       u'DAILYMaximumDryBulbTemp', u'DAILYMinimumDryBulbTemp',\n",
      "       u'DAILYAverageDryBulbTemp', u'DAILYDeptFromNormalAverageTemp',\n",
      "       u'DAILYAverageRelativeHumidity', u'DAILYAverageDewPointTemp',\n",
      "       u'DAILYAverageWetBulbTemp', u'DAILYHeatingDegreeDays',\n",
      "       u'DAILYCoolingDegreeDays', u'DAILYSunrise', u'DAILYSunset',\n",
      "       u'DAILYWeather', u'DAILYPrecip', u'DAILYSnowfall', u'DAILYSnowDepth',\n",
      "       u'DAILYAverageStationPressure', u'DAILYAverageSeaLevelPressure',\n",
      "       u'DAILYAverageWindSpeed', u'DAILYPeakWindSpeed', u'PeakWindDirection',\n",
      "       u'DAILYSustainedWindSpeed', u'DAILYSustainedWindDirection',\n",
      "       u'MonthlyMaximumTemp', u'MonthlyMinimumTemp', u'MonthlyMeanTemp',\n",
      "       u'MonthlyAverageRH', u'MonthlyDewpointTemp', u'MonthlyWetBulbTemp',\n",
      "       u'MonthlyAvgHeatingDegreeDays', u'MonthlyAvgCoolingDegreeDays',\n",
      "       u'MonthlyStationPressure', u'MonthlySeaLevelPressure',\n",
      "       u'MonthlyAverageWindSpeed', u'MonthlyTotalSnowfall',\n",
      "       u'MonthlyDeptFromNormalMaximumTemp',\n",
      "       u'MonthlyDeptFromNormalMinimumTemp',\n",
      "       u'MonthlyDeptFromNormalAverageTemp', u'MonthlyDeptFromNormalPrecip',\n",
      "       u'MonthlyTotalLiquidPrecip', u'MonthlyGreatestPrecip',\n",
      "       u'MonthlyGreatestPrecipDate', u'MonthlyGreatestSnowfall',\n",
      "       u'MonthlyGreatestSnowfallDate', u'MonthlyGreatestSnowDepth',\n",
      "       u'MonthlyGreatestSnowDepthDate', u'MonthlyDaysWithGT90Temp',\n",
      "       u'MonthlyDaysWithLT32Temp', u'MonthlyDaysWithGT32Temp',\n",
      "       u'MonthlyDaysWithLT0Temp', u'MonthlyDaysWithGT001Precip',\n",
      "       u'MonthlyDaysWithGT010Precip', u'MonthlyDaysWithGT1Snow',\n",
      "       u'MonthlyMaxSeaLevelPressureValue', u'MonthlyMaxSeaLevelPressureDate',\n",
      "       u'MonthlyMaxSeaLevelPressureTime', u'MonthlyMinSeaLevelPressureValue',\n",
      "       u'MonthlyMinSeaLevelPressureDate', u'MonthlyMinSeaLevelPressureTime',\n",
      "       u'MonthlyTotalHeatingDegreeDays', u'MonthlyTotalCoolingDegreeDays',\n",
      "       u'MonthlyDeptFromNormalHeatingDD', u'MonthlyDeptFromNormalCoolingDD',\n",
      "       u'MonthlyTotalSeasonToDateHeatingDD',\n",
      "       u'MonthlyTotalSeasonToDateCoolingDD'],\n",
      "      dtype='object')\n"
     ]
    }
   ],
   "source": [
    "import pandas as pd\n",
    "\n",
    "weather = pd.read_csv('CENTRALPARKWEATHERDATA.csv', low_memory=False)\n",
    "print weather.columns"
   ]
  },
  {
   "cell_type": "code",
   "execution_count": 7,
   "metadata": {
    "collapsed": false
   },
   "outputs": [],
   "source": [
    "weather_removed = weather[['DATE','HOURLYSKYCONDITIONS', 'HOURLYVISIBILITY', 'HOURLYPRSENTWEATHERTYPE', 'HOURLYDRYBULBTEMPC',\n",
    "                           'HOURLYRelativeHumidity', 'HOURLYWindSpeed', 'HOURLYWindGustSpeed', 'HOURLYPrecip']]"
   ]
  },
  {
   "cell_type": "code",
   "execution_count": 8,
   "metadata": {
    "collapsed": true
   },
   "outputs": [],
   "source": [
    "weather_removed.to_csv('./Weather_removed_cols.csv')"
   ]
  }
 ],
 "metadata": {
  "anaconda-cloud": {},
  "kernelspec": {
   "display_name": "Python [conda root]",
   "language": "python",
   "name": "conda-root-py"
  },
  "language_info": {
   "codemirror_mode": {
    "name": "ipython",
    "version": 2
   },
   "file_extension": ".py",
   "mimetype": "text/x-python",
   "name": "python",
   "nbconvert_exporter": "python",
   "pygments_lexer": "ipython2",
   "version": "2.7.12"
  }
 },
 "nbformat": 4,
 "nbformat_minor": 1
}
