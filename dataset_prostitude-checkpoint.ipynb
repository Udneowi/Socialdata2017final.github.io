{
 "cells": [
  {
   "cell_type": "code",
   "execution_count": 1,
   "metadata": {
    "collapsed": false
   },
   "outputs": [],
   "source": [
    "import pandas as pd\n",
    "SFPD = pd.read_csv('SFPD_incidents.csv')\n",
    "data = SFPD.loc[SFPD['Category'].isin(['PROSTITUTION'])]"
   ]
  },
  {
   "cell_type": "markdown",
   "metadata": {},
   "source": [
    "We remove everything except prostitution and remove the the outliers."
   ]
  },
  {
   "cell_type": "code",
   "execution_count": 2,
   "metadata": {
    "collapsed": false
   },
   "outputs": [],
   "source": [
    "data_lonlat = data[['X','Y']]\n",
    "data_lonlat = data_lonlat.loc[data_lonlat['Y']<85]\n"
   ]
  },
  {
   "cell_type": "code",
   "execution_count": 15,
   "metadata": {
    "collapsed": false
   },
   "outputs": [],
   "source": [
    "data_lonlat.to_json('./coords.json',orient = 'values')"
   ]
  },
  {
   "cell_type": "code",
   "execution_count": 5,
   "metadata": {
    "collapsed": true
   },
   "outputs": [],
   "source": [
    "import numpy as np\n",
    "X =  np.matrix([data_lonlat['X'],data_lonlat['Y']]).T"
   ]
  },
  {
   "cell_type": "code",
   "execution_count": 6,
   "metadata": {
    "collapsed": true
   },
   "outputs": [],
   "source": [
    "#Train KMeans model\n",
    "from sklearn.cluster import KMeans\n",
    "def trainKmeans(nClusters, X):\n",
    "\t# nClusters is number of clusters and X is a matrix of training. For geodata it should be X = np.matrix([Xcoords, Ycoords]).T\n",
    "    KM = KMeans(nClusters)\n",
    "    KM.fit(X)\n",
    "    return KM"
   ]
  },
  {
   "cell_type": "code",
   "execution_count": 7,
   "metadata": {
    "collapsed": true
   },
   "outputs": [],
   "source": [
    "K2 = trainKmeans(2,X)"
   ]
  },
  {
   "cell_type": "code",
   "execution_count": 8,
   "metadata": {
    "collapsed": false
   },
   "outputs": [
    {
     "name": "stdout",
     "output_type": "stream",
     "text": [
      "[[-122.41721258   37.78739426]\n",
      " [-122.41924312   37.76000422]]\n"
     ]
    }
   ],
   "source": [
    "print K2.cluster_centers_"
   ]
  },
  {
   "cell_type": "code",
   "execution_count": 9,
   "metadata": {
    "collapsed": false
   },
   "outputs": [
    {
     "name": "stdout",
     "output_type": "stream",
     "text": [
      "[1 1 0 ..., 0 1 1]\n"
     ]
    }
   ],
   "source": [
    "print K2.labels_"
   ]
  },
  {
   "cell_type": "code",
   "execution_count": 12,
   "metadata": {
    "collapsed": false
   },
   "outputs": [],
   "source": [
    "df=pd.DataFrame()\n",
    "cf=pd.DataFrame()\n",
    "for i in range(2,7):\n",
    "    KM = trainKmeans(i,X)\n",
    "    df[\"K%d\"%i]=KM.labels_"
   ]
  },
  {
   "cell_type": "code",
   "execution_count": 16,
   "metadata": {
    "collapsed": false
   },
   "outputs": [],
   "source": [
    "df.to_json('./labels.json',orient = \"values\")"
   ]
  },
  {
   "cell_type": "code",
   "execution_count": 28,
   "metadata": {
    "collapsed": false
   },
   "outputs": [
    {
     "name": "stdout",
     "output_type": "stream",
     "text": [
      "[ 37.76000422  37.78739426]\n",
      "[ 37.78742455  37.73890649  37.76134606]\n",
      "[ 37.78742712  37.7585723   37.76144681  37.71881425]\n",
      "[ 37.78765447  37.7614257   37.7585723   37.71881425  37.78553069]\n",
      "[ 37.7876559   37.7617104   37.71917352  37.75868925  37.72757762\n",
      "  37.78553711]\n"
     ]
    }
   ],
   "source": [
    "for i in range(2,7):\n",
    "    KM = trainKmeans(i,X)\n",
    "    cf = pd.DataFrame()\n",
    "    print KM.cluster_centers_[:,1]\n",
    "    cf['ccx']=KM.cluster_centers_[:, 0]\n",
    "    cf['ccy']=KM.cluster_centers_[:, 1]\n",
    "    #cf.to_json('./center%d.json'%i, orient = \"values\")"
   ]
  },
  {
   "cell_type": "code",
   "execution_count": null,
   "metadata": {
    "collapsed": true
   },
   "outputs": [],
   "source": []
  }
 ],
 "metadata": {
  "kernelspec": {
   "display_name": "Python 2",
   "language": "python",
   "name": "python2"
  },
  "language_info": {
   "codemirror_mode": {
    "name": "ipython",
    "version": 2
   },
   "file_extension": ".py",
   "mimetype": "text/x-python",
   "name": "python",
   "nbconvert_exporter": "python",
   "pygments_lexer": "ipython2",
   "version": "2.7.13"
  }
 },
 "nbformat": 4,
 "nbformat_minor": 2
}
